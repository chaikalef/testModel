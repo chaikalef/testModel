{
 "cells": [
  {
   "cell_type": "markdown",
   "metadata": {
    "toc": true
   },
   "source": [
    "<h1>Table of Contents<span class=\"tocSkip\"></span></h1>\n",
    "<div class=\"toc\"><ul class=\"toc-item\"><li><span><a href=\"#Предобработка\" data-toc-modified-id=\"Предобработка-1\"><span class=\"toc-item-num\">1&nbsp;&nbsp;</span>Предобработка</a></span></li><li><span><a href=\"#Выделение-признаков\" data-toc-modified-id=\"Выделение-признаков-2\"><span class=\"toc-item-num\">2&nbsp;&nbsp;</span>Выделение признаков</a></span><ul class=\"toc-item\"><li><span><a href=\"#Категориальные\" data-toc-modified-id=\"Категориальные-2.1\"><span class=\"toc-item-num\">2.1&nbsp;&nbsp;</span>Категориальные</a></span></li><li><span><a href=\"#TF-IDF-признаки-из-текста\" data-toc-modified-id=\"TF-IDF-признаки-из-текста-2.2\"><span class=\"toc-item-num\">2.2&nbsp;&nbsp;</span>TF-IDF-признаки из текста</a></span></li><li><span><a href=\"#Объединение-признаков\" data-toc-modified-id=\"Объединение-признаков-2.3\"><span class=\"toc-item-num\">2.3&nbsp;&nbsp;</span>Объединение признаков</a></span></li></ul></li><li><span><a href=\"#Обучение-гребневой-линейной-регрессии\" data-toc-modified-id=\"Обучение-гребневой-линейной-регрессии-3\"><span class=\"toc-item-num\">3&nbsp;&nbsp;</span>Обучение гребневой линейной регрессии</a></span></li><li><span><a href=\"#Предсказание\" data-toc-modified-id=\"Предсказание-4\"><span class=\"toc-item-num\">4&nbsp;&nbsp;</span>Предсказание</a></span></li><li><span><a href=\"#Сохранение-модели\" data-toc-modified-id=\"Сохранение-модели-5\"><span class=\"toc-item-num\">5&nbsp;&nbsp;</span>Сохранение модели</a></span></li><li><span><a href=\"#Загрузка-модели\" data-toc-modified-id=\"Загрузка-модели-6\"><span class=\"toc-item-num\">6&nbsp;&nbsp;</span>Загрузка модели</a></span></li><li><span><a href=\"#Предсказание-на-случайном-примере\" data-toc-modified-id=\"Предсказание-на-случайном-примере-7\"><span class=\"toc-item-num\">7&nbsp;&nbsp;</span>Предсказание на случайном примере</a></span></li></ul></div>"
   ]
  },
  {
   "cell_type": "code",
   "execution_count": null,
   "metadata": {},
   "outputs": [],
   "source": [
    "from joblib import dump\n",
    "from numpy import round, savetxt\n",
    "from pandas import read_csv\n",
    "from scipy.sparse import hstack\n",
    "from sklearn.feature_extraction import DictVectorizer\n",
    "from sklearn.feature_extraction.text import TfidfVectorizer\n",
    "from sklearn.linear_model import Ridge"
   ]
  },
  {
   "cell_type": "code",
   "execution_count": null,
   "metadata": {},
   "outputs": [],
   "source": [
    "data_train = read_csv(\n",
    "    'data/salary-train.csv'\n",
    ")\n",
    "\n",
    "data_test = read_csv(\n",
    "    'data/salary-test-mini.csv'\n",
    ")"
   ]
  },
  {
   "cell_type": "code",
   "execution_count": null,
   "metadata": {},
   "outputs": [],
   "source": [
    "data_train.iloc[:100, :].to_csv(\n",
    "    'data/salary-train-short.csv',\n",
    "    index=False\n",
    ")"
   ]
  },
  {
   "cell_type": "code",
   "execution_count": null,
   "metadata": {},
   "outputs": [],
   "source": [
    "data_train.info()"
   ]
  },
  {
   "cell_type": "code",
   "execution_count": null,
   "metadata": {},
   "outputs": [],
   "source": [
    "data_train"
   ]
  },
  {
   "cell_type": "code",
   "execution_count": null,
   "metadata": {},
   "outputs": [],
   "source": [
    "data_test"
   ]
  },
  {
   "cell_type": "markdown",
   "metadata": {},
   "source": [
    "# Предобработка"
   ]
  },
  {
   "cell_type": "code",
   "execution_count": null,
   "metadata": {},
   "outputs": [],
   "source": [
    "strCols = [\n",
    "    'LocationNormalized',\n",
    "    'ContractTime'\n",
    "]"
   ]
  },
  {
   "cell_type": "code",
   "execution_count": null,
   "metadata": {},
   "outputs": [],
   "source": [
    "# производим замену пропущенных значений на специальные\n",
    "# строковые величины (например, 'nan')\n",
    "data_train.loc[:, strCols] = data_train.loc[:, strCols].fillna('nan')\n",
    "data_test.loc[:, strCols] = data_test.loc[:, strCols].fillna('nan')"
   ]
  },
  {
   "cell_type": "code",
   "execution_count": null,
   "metadata": {},
   "outputs": [],
   "source": [
    "data_train.info()"
   ]
  },
  {
   "cell_type": "code",
   "execution_count": null,
   "metadata": {},
   "outputs": [],
   "source": [
    "data_train"
   ]
  },
  {
   "cell_type": "code",
   "execution_count": null,
   "metadata": {},
   "outputs": [],
   "source": [
    "data_test"
   ]
  },
  {
   "cell_type": "code",
   "execution_count": null,
   "metadata": {},
   "outputs": [],
   "source": [
    "for col in data_train:\n",
    "    if data_train[col].dtype == object:\n",
    "        data_train[col] = data_train[col].str.lower()\n",
    "        data_test[col] = data_test[col].str.lower()\n",
    "\n",
    "        # заменим все, кроме букв и цифр, на пробелы — это облегчит\n",
    "        # дальнейшее разделение текста на слова\n",
    "        data_train[col] = data_train[col].replace('[^a-zA-Z0-9]',\n",
    "                                                  ' ',\n",
    "                                                  regex=True)\n",
    "        data_test[col] = data_test[col].replace('[^a-zA-Z0-9]',\n",
    "                                                ' ',\n",
    "                                                regex=True)"
   ]
  },
  {
   "cell_type": "code",
   "execution_count": null,
   "metadata": {},
   "outputs": [],
   "source": [
    "data_train.info()"
   ]
  },
  {
   "cell_type": "code",
   "execution_count": null,
   "metadata": {},
   "outputs": [],
   "source": [
    "data_train"
   ]
  },
  {
   "cell_type": "code",
   "execution_count": null,
   "metadata": {},
   "outputs": [],
   "source": [
    "data_test"
   ]
  },
  {
   "cell_type": "markdown",
   "metadata": {},
   "source": [
    "# Выделение признаков"
   ]
  },
  {
   "cell_type": "markdown",
   "metadata": {},
   "source": [
    "## Категориальные\n",
    "one-hot кодировка"
   ]
  },
  {
   "cell_type": "code",
   "execution_count": null,
   "metadata": {},
   "outputs": [],
   "source": [
    "for col in strCols:\n",
    "    print(data_train[col].value_counts(dropna=False))\n",
    "    print()"
   ]
  },
  {
   "cell_type": "code",
   "execution_count": null,
   "metadata": {},
   "outputs": [],
   "source": [
    "# кодирование категориальных признаков one-hot-кодированием\n",
    "\n",
    "enc_categ = DictVectorizer()\n",
    "X_train_categ = enc_categ.fit_transform(\n",
    "    data_train[strCols].to_dict('records')\n",
    ")\n",
    "X_test_categ = enc_categ.transform(\n",
    "    data_test[strCols].to_dict('records')\n",
    ")"
   ]
  },
  {
   "cell_type": "code",
   "execution_count": null,
   "metadata": {},
   "outputs": [],
   "source": [
    "X_train_categ"
   ]
  },
  {
   "cell_type": "code",
   "execution_count": null,
   "metadata": {},
   "outputs": [],
   "source": [
    "X_test_categ"
   ]
  },
  {
   "cell_type": "code",
   "execution_count": null,
   "metadata": {
    "scrolled": true
   },
   "outputs": [],
   "source": [
    "enc_categ.get_feature_names()"
   ]
  },
  {
   "cell_type": "markdown",
   "metadata": {},
   "source": [
    "## TF-IDF-признаки из текста"
   ]
  },
  {
   "cell_type": "code",
   "execution_count": null,
   "metadata": {},
   "outputs": [],
   "source": [
    "enc_text = TfidfVectorizer(min_df=5/len(data_train))\n",
    "X_train_text = enc_text.fit_transform(\n",
    "    data_train['FullDescription']\n",
    ")\n",
    "X_test_text = enc_text.transform(\n",
    "    data_test['FullDescription']\n",
    ")"
   ]
  },
  {
   "cell_type": "code",
   "execution_count": null,
   "metadata": {
    "scrolled": true
   },
   "outputs": [],
   "source": [
    "enc_text.get_feature_names()"
   ]
  },
  {
   "cell_type": "code",
   "execution_count": null,
   "metadata": {},
   "outputs": [],
   "source": [
    "X_train_text"
   ]
  },
  {
   "cell_type": "code",
   "execution_count": null,
   "metadata": {},
   "outputs": [],
   "source": [
    "X_test_text"
   ]
  },
  {
   "cell_type": "markdown",
   "metadata": {},
   "source": [
    "## Объединение признаков"
   ]
  },
  {
   "cell_type": "code",
   "execution_count": null,
   "metadata": {},
   "outputs": [],
   "source": [
    "X_train = hstack([\n",
    "    X_train_text,\n",
    "    X_train_categ\n",
    "])\n",
    "X_test = hstack([\n",
    "    X_test_text,\n",
    "    X_test_categ\n",
    "])"
   ]
  },
  {
   "cell_type": "code",
   "execution_count": null,
   "metadata": {},
   "outputs": [],
   "source": [
    "X_train"
   ]
  },
  {
   "cell_type": "code",
   "execution_count": null,
   "metadata": {},
   "outputs": [],
   "source": [
    "X_test"
   ]
  },
  {
   "cell_type": "markdown",
   "metadata": {},
   "source": [
    "# Обучение гребневой линейной регрессии"
   ]
  },
  {
   "cell_type": "code",
   "execution_count": null,
   "metadata": {},
   "outputs": [],
   "source": [
    "clf = Ridge(\n",
    "    alpha=1,\n",
    "    random_state=241\n",
    ")\n",
    "clf"
   ]
  },
  {
   "cell_type": "code",
   "execution_count": null,
   "metadata": {},
   "outputs": [],
   "source": [
    "clf.fit(\n",
    "    X=X_train,\n",
    "    y=data_train['SalaryNormalized']\n",
    ")"
   ]
  },
  {
   "cell_type": "markdown",
   "metadata": {},
   "source": [
    "# Предсказание"
   ]
  },
  {
   "cell_type": "code",
   "execution_count": null,
   "metadata": {},
   "outputs": [],
   "source": [
    "pred = round(clf.predict(\n",
    "    X=X_test\n",
    "), 2)\n",
    "pred"
   ]
  },
  {
   "cell_type": "code",
   "execution_count": null,
   "metadata": {},
   "outputs": [],
   "source": [
    "pred"
   ]
  },
  {
   "cell_type": "code",
   "execution_count": null,
   "metadata": {},
   "outputs": [],
   "source": [
    "savetxt(\n",
    "    fname='pred.csv',\n",
    "    X=pred,\n",
    "    fmt='%f',\n",
    "    delimiter=','\n",
    ")"
   ]
  },
  {
   "cell_type": "markdown",
   "metadata": {},
   "source": [
    "# Сохранение модели"
   ]
  },
  {
   "cell_type": "code",
   "execution_count": null,
   "metadata": {},
   "outputs": [],
   "source": [
    "clfFile = 'model.pkl'"
   ]
  },
  {
   "cell_type": "code",
   "execution_count": null,
   "metadata": {},
   "outputs": [],
   "source": [
    "dump(\n",
    "    value=clf,\n",
    "    filename=clfFile,\n",
    "    compress=9\n",
    ")"
   ]
  },
  {
   "cell_type": "markdown",
   "metadata": {},
   "source": [
    "# Загрузка модели"
   ]
  },
  {
   "cell_type": "code",
   "execution_count": null,
   "metadata": {},
   "outputs": [],
   "source": [
    "from joblib import load\n",
    "from scipy.sparse import random"
   ]
  },
  {
   "cell_type": "code",
   "execution_count": null,
   "metadata": {},
   "outputs": [],
   "source": [
    "clfFile = 'model.pkl'"
   ]
  },
  {
   "cell_type": "code",
   "execution_count": null,
   "metadata": {},
   "outputs": [],
   "source": [
    "clf = load(\n",
    "    filename=clfFile\n",
    ")\n",
    "clf"
   ]
  },
  {
   "cell_type": "markdown",
   "metadata": {},
   "source": [
    "# Предсказание на случайном примере"
   ]
  },
  {
   "cell_type": "code",
   "execution_count": null,
   "metadata": {},
   "outputs": [],
   "source": [
    "X_rand = random(\n",
    "    m=1,  # количество объектов\n",
    "    n=24627,\n",
    "    random_state=clf.get_params()['random_state']  # необязательно\n",
    ")\n",
    "X_rand"
   ]
  },
  {
   "cell_type": "code",
   "execution_count": null,
   "metadata": {},
   "outputs": [],
   "source": [
    "pred = clf.predict(\n",
    "    X=X_rand\n",
    ")\n",
    "pred"
   ]
  }
 ],
 "metadata": {
  "kernelspec": {
   "display_name": "Python 3",
   "language": "python",
   "name": "python3"
  },
  "language_info": {
   "codemirror_mode": {
    "name": "ipython",
    "version": 3
   },
   "file_extension": ".py",
   "mimetype": "text/x-python",
   "name": "python",
   "nbconvert_exporter": "python",
   "pygments_lexer": "ipython3",
   "version": "3.7.7"
  },
  "notify_time": "30",
  "toc": {
   "base_numbering": 1,
   "nav_menu": {},
   "number_sections": true,
   "sideBar": true,
   "skip_h1_title": false,
   "title_cell": "Table of Contents",
   "title_sidebar": "Contents",
   "toc_cell": true,
   "toc_position": {},
   "toc_section_display": true,
   "toc_window_display": false
  },
  "varInspector": {
   "cols": {
    "lenName": 16,
    "lenType": 16,
    "lenVar": 40
   },
   "kernels_config": {
    "python": {
     "delete_cmd_postfix": "",
     "delete_cmd_prefix": "del ",
     "library": "var_list.py",
     "varRefreshCmd": "print(var_dic_list())"
    },
    "r": {
     "delete_cmd_postfix": ") ",
     "delete_cmd_prefix": "rm(",
     "library": "var_list.r",
     "varRefreshCmd": "cat(var_dic_list()) "
    }
   },
   "types_to_exclude": [
    "module",
    "function",
    "builtin_function_or_method",
    "instance",
    "_Feature"
   ],
   "window_display": false
  }
 },
 "nbformat": 4,
 "nbformat_minor": 2
}
