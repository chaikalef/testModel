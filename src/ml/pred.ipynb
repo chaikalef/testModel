{
 "cells": [
  {
   "cell_type": "code",
   "execution_count": null,
   "metadata": {},
   "outputs": [],
   "source": [
    "from typing import Dict, List\n",
    "\n",
    "from joblib import load\n",
    "from pandas import DataFrame, read_csv\n",
    "from scipy.sparse import hstack, random\n",
    "from sklearn.feature_extraction import DictVectorizer\n",
    "from sklearn.feature_extraction.text import TfidfVectorizer"
   ]
  },
  {
   "cell_type": "code",
   "execution_count": null,
   "metadata": {},
   "outputs": [],
   "source": [
    "def predict(\n",
    "    data: Dict = None\n",
    ") -> float:\n",
    "    if not(data is None):\n",
    "        def preproc(\n",
    "            df: DataFrame,\n",
    "            strCols: List[str]\n",
    "        ) -> DataFrame:\n",
    "            res = df.copy()\n",
    "            res.loc[:, strCols] = res.loc[:, strCols].fillna('nan')\n",
    "            for col in res:\n",
    "                if res[col].dtype == object:\n",
    "                    res[col] = res[col].str.lower()\n",
    "                    res[col] = res[col].replace('[^a-zA-Z0-9]',\n",
    "                                                ' ', regex=True)\n",
    "            return res\n",
    "\n",
    "        def getTextFeats(enc):\n",
    "            text = read_csv('data/salary-train.csv', usecols=[0])\n",
    "            text = preproc(df=text, strCols=text.columns)\n",
    "            enc.fit_transform(text['FullDescription'])\n",
    "\n",
    "        strCols = ['LocationNormalized', 'ContractTime']\n",
    "        data = DataFrame(data, index=[0])\n",
    "        data = preproc(df=data, strCols=strCols)\n",
    "\n",
    "        enc_categ = DictVectorizer()\n",
    "        X_categ = enc_categ.fit_transform(data[strCols].to_dict('records'))\n",
    "\n",
    "        enc_text = TfidfVectorizer(\n",
    "            max_features=24627 - X_categ.get_shape()[-1])\n",
    "        getTextFeats(enc=enc_text)\n",
    "        X_text = enc_text.transform(data['FullDescription'])\n",
    "\n",
    "        X = hstack([X_text, X_categ])\n",
    "\n",
    "    else:\n",
    "        # Предсказание на случайном примере\n",
    "        X = random(\n",
    "            m=1,  # количество объектов\n",
    "            n=24627\n",
    "        )\n",
    "\n",
    "    clf = load(filename='model.pkl')\n",
    "    return clf.predict(X=X)"
   ]
  },
  {
   "cell_type": "code",
   "execution_count": null,
   "metadata": {},
   "outputs": [],
   "source": [
    "from pandas import read_csv\n",
    "from requests import post\n",
    "\n",
    "data_test = read_csv(\n",
    "    'data/salary-test-mini.csv'\n",
    ")\n",
    "\n",
    "for idx in data_test.index:\n",
    "    print(predict(data_test.loc[idx].to_dict()))"
   ]
  }
 ],
 "metadata": {
  "kernelspec": {
   "display_name": "Python 3",
   "language": "python",
   "name": "python3"
  },
  "language_info": {
   "codemirror_mode": {
    "name": "ipython",
    "version": 3
   },
   "file_extension": ".py",
   "mimetype": "text/x-python",
   "name": "python",
   "nbconvert_exporter": "python",
   "pygments_lexer": "ipython3",
   "version": "3.7.7"
  },
  "notify_time": "30",
  "toc": {
   "base_numbering": 1,
   "nav_menu": {},
   "number_sections": true,
   "sideBar": true,
   "skip_h1_title": false,
   "title_cell": "Table of Contents",
   "title_sidebar": "Contents",
   "toc_cell": true,
   "toc_position": {},
   "toc_section_display": true,
   "toc_window_display": false
  },
  "varInspector": {
   "cols": {
    "lenName": 16,
    "lenType": 16,
    "lenVar": 40
   },
   "kernels_config": {
    "python": {
     "delete_cmd_postfix": "",
     "delete_cmd_prefix": "del ",
     "library": "var_list.py",
     "varRefreshCmd": "print(var_dic_list())"
    },
    "r": {
     "delete_cmd_postfix": ") ",
     "delete_cmd_prefix": "rm(",
     "library": "var_list.r",
     "varRefreshCmd": "cat(var_dic_list()) "
    }
   },
   "types_to_exclude": [
    "module",
    "function",
    "builtin_function_or_method",
    "instance",
    "_Feature"
   ],
   "window_display": false
  }
 },
 "nbformat": 4,
 "nbformat_minor": 2
}
