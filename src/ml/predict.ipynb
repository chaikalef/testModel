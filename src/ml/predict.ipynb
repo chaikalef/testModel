{
 "cells": [
  {
   "cell_type": "code",
   "execution_count": null,
   "metadata": {},
   "outputs": [],
   "source": [
    "from os.path import abspath, join\n",
    "from typing import Dict\n",
    "\n",
    "from joblib import load\n",
    "from pandas import DataFrame, read_csv\n",
    "from requests import post\n",
    "from scipy.sparse import hstack, random"
   ]
  },
  {
   "cell_type": "code",
   "execution_count": null,
   "metadata": {},
   "outputs": [],
   "source": [
    "def predict(\n",
    "    data: Dict = None\n",
    ") -> float:\n",
    "    if data == None:\n",
    "        X = random(m=1, n=24627)\n",
    "    else:\n",
    "        strCols = ['location', 'contract']\n",
    "        df = DataFrame(data, index=[0])\n",
    "        df.loc[:, strCols] = df.loc[:, strCols].fillna('nan')\n",
    "        for col in df:\n",
    "            df[col] = df[col].str.lower()\n",
    "            df[col] = df[col].replace('[^a-zA-Z0-9]',\n",
    "                                      ' ', regex=True)\n",
    "        X_categ = enc_categ.transform(df[strCols].to_dict('records'))\n",
    "        X_text = enc_text.transform(df['description'])\n",
    "        X = hstack([X_text, X_categ])\n",
    "    return clf.predict(X=X)[0]"
   ]
  },
  {
   "cell_type": "code",
   "execution_count": null,
   "metadata": {},
   "outputs": [],
   "source": [
    "dir = abspath('')\n",
    "enc_categ = load(join(dir, 'enc_categ.pkl'))\n",
    "enc_text = load(join(dir, 'enc_text.pkl'))\n",
    "clf = load(join(dir, 'model.pkl'))\n",
    "\n",
    "data_test = read_csv(join(dir, 'data/salary-test-mini.csv'))\n",
    "data_test.columns = ['description', 'location',\n",
    "                     'contract'] + [data_test.columns[-1]]\n",
    "\n",
    "for i in range(len(data_test)):\n",
    "    print(predict(data_test.iloc[i, :-1].to_dict()))"
   ]
  }
 ],
 "metadata": {
  "kernelspec": {
   "display_name": "Python 3",
   "language": "python",
   "name": "python3"
  },
  "language_info": {
   "codemirror_mode": {
    "name": "ipython",
    "version": 3
   },
   "file_extension": ".py",
   "mimetype": "text/x-python",
   "name": "python",
   "nbconvert_exporter": "python",
   "pygments_lexer": "ipython3",
   "version": "3.7.6"
  },
  "notify_time": "30",
  "toc": {
   "base_numbering": 1,
   "nav_menu": {},
   "number_sections": true,
   "sideBar": true,
   "skip_h1_title": false,
   "title_cell": "Table of Contents",
   "title_sidebar": "Contents",
   "toc_cell": true,
   "toc_position": {},
   "toc_section_display": true,
   "toc_window_display": false
  },
  "varInspector": {
   "cols": {
    "lenName": 16,
    "lenType": 16,
    "lenVar": 40
   },
   "kernels_config": {
    "python": {
     "delete_cmd_postfix": "",
     "delete_cmd_prefix": "del ",
     "library": "var_list.py",
     "varRefreshCmd": "print(var_dic_list())"
    },
    "r": {
     "delete_cmd_postfix": ") ",
     "delete_cmd_prefix": "rm(",
     "library": "var_list.r",
     "varRefreshCmd": "cat(var_dic_list()) "
    }
   },
   "types_to_exclude": [
    "module",
    "function",
    "builtin_function_or_method",
    "instance",
    "_Feature"
   ],
   "window_display": false
  }
 },
 "nbformat": 4,
 "nbformat_minor": 2
}
